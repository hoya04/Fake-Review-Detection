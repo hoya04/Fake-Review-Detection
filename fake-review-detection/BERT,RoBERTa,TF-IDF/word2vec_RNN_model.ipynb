{
 "cells": [
  {
   "cell_type": "code",
   "execution_count": 6,
   "id": "f42d24fd",
   "metadata": {},
   "outputs": [],
   "source": [
    "import pandas as pd\n",
    "import numpy as np\n",
    "import re\n",
    "from tqdm import tqdm\n",
    "\n",
    "import nltk\n",
    "from nltk.corpus import stopwords\n",
    "from nltk.tokenize import word_tokenize\n",
    "from gensim.models import Word2Vec\n",
    "\n",
    "from sklearn.model_selection import train_test_split\n",
    "from sklearn.metrics import accuracy_score, precision_score, recall_score, f1_score\n",
    "\n",
    "import tensorflow as tf\n",
    "from tensorflow.keras.preprocessing.sequence import pad_sequences\n",
    "from tensorflow.keras.preprocessing.text import Tokenizer\n",
    "from tensorflow.keras import layers, models, callbacks\n"
   ]
  },
  {
   "cell_type": "markdown",
   "id": "8601eb28",
   "metadata": {},
   "source": [
    "## Word2Vec"
   ]
  },
  {
   "cell_type": "code",
   "execution_count": 7,
   "id": "7b7599e8",
   "metadata": {},
   "outputs": [],
   "source": [
    "# === 1. 텍스트 전처리 ===\n",
    "def preprocess_text(text):\n",
    "    text = text.lower()\n",
    "    text = re.sub(r\"[^a-z\\s]\", \"\", text)  # 알파벳과 공백만\n",
    "    tokens = word_tokenize(text)\n",
    "    tokens = [t for t in tokens if t not in stopwords.words(\"english\")]\n",
    "    return tokens"
   ]
  },
  {
   "cell_type": "code",
   "execution_count": null,
   "id": "4cc42399",
   "metadata": {},
   "outputs": [],
   "source": [
    "# === 2. 데이터 로드 및 전처리 ===\n",
    "df = pd.read_json(\"emb_cls.json\")\n",
    "df[\"tokens\"] = df[\"review_text\"].apply(preprocess_text)"
   ]
  },
  {
   "cell_type": "code",
   "execution_count": null,
   "id": "20214823",
   "metadata": {},
   "outputs": [],
   "source": [
    "df.head()"
   ]
  },
  {
   "cell_type": "code",
   "execution_count": null,
   "id": "6e50cf85",
   "metadata": {},
   "outputs": [],
   "source": [
    "# === 3. Word2Vec 학습 ===\n",
    "w2v_model = Word2Vec(sentences=df[\"tokens\"], vector_size=100, window=5, min_count=2, workers=4)\n",
    "word_vectors = w2v_model.wv\n",
    "vocab = word_vectors.key_to_index"
   ]
  },
  {
   "cell_type": "code",
   "execution_count": null,
   "id": "2b435a2d",
   "metadata": {},
   "outputs": [],
   "source": [
    "# === 4. 토크나이저 및 시퀀스 ===\n",
    "tokenizer = Tokenizer()\n",
    "tokenizer.fit_on_texts(df[\"tokens\"])\n",
    "sequences = tokenizer.texts_to_sequences(df[\"tokens\"])\n",
    "word_index = tokenizer.word_index\n",
    "\n",
    "max_len = 100\n",
    "X_seq = pad_sequences(sequences, maxlen=max_len)\n",
    "y = df['fake'].values"
   ]
  },
  {
   "cell_type": "code",
   "execution_count": null,
   "id": "2b9f730d",
   "metadata": {},
   "outputs": [],
   "source": [
    "# === 5. 임베딩 매트릭스 구성 ===\n",
    "embedding_dim = 100\n",
    "embedding_matrix = np.zeros((len(word_index) + 1, embedding_dim))\n",
    "\n",
    "for word, i in word_index.items():\n",
    "    if word in word_vectors:\n",
    "        embedding_matrix[i] = word_vectors[word]"
   ]
  },
  {
   "cell_type": "code",
   "execution_count": null,
   "id": "e398a04b",
   "metadata": {},
   "outputs": [],
   "source": [
    "print(embedding_matrix.shape)"
   ]
  },
  {
   "cell_type": "code",
   "execution_count": null,
   "id": "459f785d",
   "metadata": {},
   "outputs": [],
   "source": [
    "\n",
    "from sklearn.model_selection import train_test_split\n",
    "from sklearn.metrics import accuracy_score, precision_score, recall_score, f1_score\n",
    "\n",
    "import tensorflow as tf\n",
    "from tensorflow.keras.preprocessing.sequence import pad_sequences\n",
    "from tensorflow.keras.preprocessing.text import Tokenizer\n",
    "from tensorflow.keras import layers, models, callbacks\n",
    "\n",
    "from tensorflow.keras.models import Model\n",
    "from keras.layers import Input, Embedding, SimpleRNN, Dense, Dropout\n",
    "\n",
    "from tensorflow.keras.optimizers import Adam # 학습률 조절\n",
    "from tensorflow.keras.callbacks import EarlyStopping\n",
    "\n",
    "from tensorflow.keras.callbacks import EarlyStopping # 검증 손실 개선되지 않으면 학습 자동 멈춤, 과적함 방지.\n",
    "from sklearn.metrics import mean_squared_error, mean_absolute_error, mean_absolute_percentage_error # 결과 평가\n",
    "from sklearn.metrics import accuracy_score, precision_score, recall_score, f1_score"
   ]
  },
  {
   "cell_type": "code",
   "execution_count": null,
   "id": "41e423d8",
   "metadata": {},
   "outputs": [],
   "source": [
    "# === 6. RNN 모델 ===\n",
    "def build_rnn_model():\n",
    "    input_layer = layers.Input(shape=(max_len,))\n",
    "    embedding_layer = layers.Embedding(input_dim=len(word_index)+1,\n",
    "                                       output_dim=embedding_dim,\n",
    "                                       weights=[embedding_matrix],\n",
    "                                       input_length=max_len,\n",
    "                                       trainable=False)(input_layer)\n",
    "\n",
    "    x = SimpleRNN(128, return_sequences=False, name='Basic_RNN_1')(embedding_layer)\n",
    "    output = layers.Dense(1, activation='sigmoid')(x)\n",
    "\n",
    "    model = models.Model(inputs=input_layer, outputs=output)\n",
    "    model.summary()\n",
    "    model.compile(optimizer='adam', loss='binary_crossentropy', metrics=['accuracy'])\n",
    "    return model"
   ]
  },
  {
   "cell_type": "markdown",
   "id": "6dcf6a1d",
   "metadata": {},
   "source": [
    "### 모델 학습"
   ]
  },
  {
   "cell_type": "code",
   "execution_count": null,
   "id": "e1fa03de",
   "metadata": {},
   "outputs": [],
   "source": [
    "def train_model(X, y):\n",
    "    X_train, X_val, y_train, y_val = train_test_split(\n",
    "        X, y, test_size=0.2, stratify=y, random_state=42)\n",
    "\n",
    "    model = build_rnn_model()\n",
    "    early_stop = callbacks.EarlyStopping(monitor='val_loss', patience=5, restore_best_weights=True)\n",
    "\n",
    "    model.fit(X_train, y_train,\n",
    "              validation_data=(X_val, y_val),\n",
    "              epochs=1,\n",
    "              batch_size=128,\n",
    "              callbacks=[early_stop])\n",
    "\n",
    "    y_pred_prob = model.predict(X_val)\n",
    "    y_pred = (y_pred_prob >= 0.5).astype(int)\n",
    "\n",
    "    print(f\"Accuracy : {accuracy_score(y_val, y_pred):.4f}\")\n",
    "    print(f\"Precision: {precision_score(y_val, y_pred):.4f}\")\n",
    "    print(f\"Recall   : {recall_score(y_val, y_pred):.4f}\")\n",
    "    print(f\"F1 Score : {f1_score(y_val, y_pred):.4f}\")\n",
    "\n",
    "    return model"
   ]
  },
  {
   "cell_type": "code",
   "execution_count": null,
   "id": "9f4fac0c",
   "metadata": {},
   "outputs": [],
   "source": [
    "model = train_model(X_seq, y)"
   ]
  },
  {
   "cell_type": "code",
   "execution_count": null,
   "id": "90d5f8ce",
   "metadata": {},
   "outputs": [],
   "source": [
    "# from tensorflow.keras.utils import plot_model\n",
    "# plot_model(model, show_shapes=True)"
   ]
  }
 ],
 "metadata": {
  "kernelspec": {
   "display_name": "vec",
   "language": "python",
   "name": "python3"
  },
  "language_info": {
   "codemirror_mode": {
    "name": "ipython",
    "version": 3
   },
   "file_extension": ".py",
   "mimetype": "text/x-python",
   "name": "python",
   "nbconvert_exporter": "python",
   "pygments_lexer": "ipython3",
   "version": "3.8.20"
  }
 },
 "nbformat": 4,
 "nbformat_minor": 5
}
