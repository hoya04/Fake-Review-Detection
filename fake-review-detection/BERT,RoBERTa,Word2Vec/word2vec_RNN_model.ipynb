{
 "cells": [
  {
   "cell_type": "code",
   "execution_count": 1,
   "id": "f42d24fd",
   "metadata": {},
   "outputs": [],
   "source": [
    "import pandas as pd\n",
    "import numpy as np\n",
    "import re\n",
    "from tqdm import tqdm\n",
    "\n",
    "import nltk\n",
    "from nltk.corpus import stopwords\n",
    "from nltk.tokenize import word_tokenize\n",
    "from gensim.models import Word2Vec\n",
    "\n",
    "from sklearn.model_selection import train_test_split\n",
    "from sklearn.metrics import accuracy_score, precision_score, recall_score, f1_score\n",
    "\n",
    "import tensorflow as tf\n",
    "from tensorflow.keras.preprocessing.sequence import pad_sequences\n",
    "from tensorflow.keras.preprocessing.text import Tokenizer\n",
    "from tensorflow.keras import layers, models, callbacks\n"
   ]
  },
  {
   "cell_type": "markdown",
   "id": "8601eb28",
   "metadata": {},
   "source": [
    "## Word2Vec"
   ]
  },
  {
   "cell_type": "code",
   "execution_count": 2,
   "id": "7b7599e8",
   "metadata": {},
   "outputs": [],
   "source": [
    "# === 1. 텍스트 전처리 ===\n",
    "def preprocess_text(text):\n",
    "    text = text.lower()\n",
    "    text = re.sub(r\"[^a-z\\s]\", \"\", text)  # 알파벳과 공백만\n",
    "    tokens = word_tokenize(text)\n",
    "    tokens = [t for t in tokens if t not in stopwords.words(\"english\")]\n",
    "    return tokens"
   ]
  },
  {
   "cell_type": "code",
   "execution_count": 3,
   "id": "4cc42399",
   "metadata": {},
   "outputs": [],
   "source": [
    "# === 2. 데이터 로드 및 전처리 ===\n",
    "df = pd.read_json(\"emb_cls.json\")\n",
    "df[\"tokens\"] = df[\"review_text\"].apply(preprocess_text)"
   ]
  },
  {
   "cell_type": "code",
   "execution_count": 4,
   "id": "20214823",
   "metadata": {},
   "outputs": [
    {
     "data": {
      "text/html": [
       "<div>\n",
       "<style scoped>\n",
       "    .dataframe tbody tr th:only-of-type {\n",
       "        vertical-align: middle;\n",
       "    }\n",
       "\n",
       "    .dataframe tbody tr th {\n",
       "        vertical-align: top;\n",
       "    }\n",
       "\n",
       "    .dataframe thead th {\n",
       "        text-align: right;\n",
       "    }\n",
       "</style>\n",
       "<table border=\"1\" class=\"dataframe\">\n",
       "  <thead>\n",
       "    <tr style=\"text-align: right;\">\n",
       "      <th></th>\n",
       "      <th>review_text</th>\n",
       "      <th>fake</th>\n",
       "      <th>cleaned_text</th>\n",
       "      <th>bert_cls</th>\n",
       "      <th>roberta_cls</th>\n",
       "      <th>tokens</th>\n",
       "    </tr>\n",
       "  </thead>\n",
       "  <tbody>\n",
       "    <tr>\n",
       "      <th>0</th>\n",
       "      <td>Awesome place to eat! Great atmosphere and fri...</td>\n",
       "      <td>1</td>\n",
       "      <td>Awesome place to eat Great atmosphere and frie...</td>\n",
       "      <td>[0.0792026445, -0.0128625417, 0.3162086904, 0....</td>\n",
       "      <td>[-0.0814717263, 0.0890230536, -0.0438717902, -...</td>\n",
       "      <td>[awesome, place, eat, great, atmosphere, frien...</td>\n",
       "    </tr>\n",
       "    <tr>\n",
       "      <th>1</th>\n",
       "      <td>Great lunch date place! Food is amazing, not a...</td>\n",
       "      <td>1</td>\n",
       "      <td>Great lunch date place Food is amazing not a l...</td>\n",
       "      <td>[-0.0047885552, 0.108762987, 0.0148257306, -0....</td>\n",
       "      <td>[-0.05344918, 0.0875567347, -0.0044471626, -0....</td>\n",
       "      <td>[great, lunch, date, place, food, amazing, lon...</td>\n",
       "    </tr>\n",
       "    <tr>\n",
       "      <th>2</th>\n",
       "      <td>Best takeout Thai in the area and at a good pr...</td>\n",
       "      <td>1</td>\n",
       "      <td>Best takeout Thai in the area and at a good pr...</td>\n",
       "      <td>[-0.1299686283, 0.1433178782, -0.0055814832, -...</td>\n",
       "      <td>[-0.030115934100000002, 0.0927834213, -0.01960...</td>\n",
       "      <td>[best, takeout, thai, area, good, price, highl...</td>\n",
       "    </tr>\n",
       "    <tr>\n",
       "      <th>3</th>\n",
       "      <td>we been here few times for birthdays and coupl...</td>\n",
       "      <td>1</td>\n",
       "      <td>we been here few times for birthdays and coupl...</td>\n",
       "      <td>[-0.0104819108, -0.207980454, 0.4680296183, -0...</td>\n",
       "      <td>[-0.0079873865, 0.019187642300000002, -0.02611...</td>\n",
       "      <td>[times, birthdays, couple, anniversarys, reaso...</td>\n",
       "    </tr>\n",
       "    <tr>\n",
       "      <th>4</th>\n",
       "      <td>Excellent food and service. Yummy Delicious!!!...</td>\n",
       "      <td>1</td>\n",
       "      <td>Excellent food and service Yummy Delicious Flo...</td>\n",
       "      <td>[-0.3778436184, -0.2384559363, -0.0925718844, ...</td>\n",
       "      <td>[-0.0456091613, 0.0996065363, -0.0168792922, -...</td>\n",
       "      <td>[excellent, food, service, yummy, delicious, f...</td>\n",
       "    </tr>\n",
       "  </tbody>\n",
       "</table>\n",
       "</div>"
      ],
      "text/plain": [
       "                                         review_text  fake  \\\n",
       "0  Awesome place to eat! Great atmosphere and fri...     1   \n",
       "1  Great lunch date place! Food is amazing, not a...     1   \n",
       "2  Best takeout Thai in the area and at a good pr...     1   \n",
       "3  we been here few times for birthdays and coupl...     1   \n",
       "4  Excellent food and service. Yummy Delicious!!!...     1   \n",
       "\n",
       "                                        cleaned_text  \\\n",
       "0  Awesome place to eat Great atmosphere and frie...   \n",
       "1  Great lunch date place Food is amazing not a l...   \n",
       "2  Best takeout Thai in the area and at a good pr...   \n",
       "3  we been here few times for birthdays and coupl...   \n",
       "4  Excellent food and service Yummy Delicious Flo...   \n",
       "\n",
       "                                            bert_cls  \\\n",
       "0  [0.0792026445, -0.0128625417, 0.3162086904, 0....   \n",
       "1  [-0.0047885552, 0.108762987, 0.0148257306, -0....   \n",
       "2  [-0.1299686283, 0.1433178782, -0.0055814832, -...   \n",
       "3  [-0.0104819108, -0.207980454, 0.4680296183, -0...   \n",
       "4  [-0.3778436184, -0.2384559363, -0.0925718844, ...   \n",
       "\n",
       "                                         roberta_cls  \\\n",
       "0  [-0.0814717263, 0.0890230536, -0.0438717902, -...   \n",
       "1  [-0.05344918, 0.0875567347, -0.0044471626, -0....   \n",
       "2  [-0.030115934100000002, 0.0927834213, -0.01960...   \n",
       "3  [-0.0079873865, 0.019187642300000002, -0.02611...   \n",
       "4  [-0.0456091613, 0.0996065363, -0.0168792922, -...   \n",
       "\n",
       "                                              tokens  \n",
       "0  [awesome, place, eat, great, atmosphere, frien...  \n",
       "1  [great, lunch, date, place, food, amazing, lon...  \n",
       "2  [best, takeout, thai, area, good, price, highl...  \n",
       "3  [times, birthdays, couple, anniversarys, reaso...  \n",
       "4  [excellent, food, service, yummy, delicious, f...  "
      ]
     },
     "execution_count": 4,
     "metadata": {},
     "output_type": "execute_result"
    }
   ],
   "source": [
    "df.head()"
   ]
  },
  {
   "cell_type": "code",
   "execution_count": 5,
   "id": "6e50cf85",
   "metadata": {},
   "outputs": [],
   "source": [
    "# === 3. Word2Vec 학습 ===\n",
    "w2v_model = Word2Vec(sentences=df[\"tokens\"], vector_size=100, window=5, min_count=2, workers=4)\n",
    "word_vectors = w2v_model.wv\n",
    "vocab = word_vectors.key_to_index"
   ]
  },
  {
   "cell_type": "code",
   "execution_count": 6,
   "id": "2b435a2d",
   "metadata": {},
   "outputs": [],
   "source": [
    "# === 4. 토크나이저 및 시퀀스 ===\n",
    "tokenizer = Tokenizer()\n",
    "tokenizer.fit_on_texts(df[\"tokens\"])\n",
    "sequences = tokenizer.texts_to_sequences(df[\"tokens\"])\n",
    "word_index = tokenizer.word_index\n",
    "\n",
    "max_len = 100\n",
    "X_seq = pad_sequences(sequences, maxlen=max_len)\n",
    "y = df['fake'].values"
   ]
  },
  {
   "cell_type": "code",
   "execution_count": 7,
   "id": "2b9f730d",
   "metadata": {},
   "outputs": [],
   "source": [
    "# === 5. 임베딩 매트릭스 구성 ===\n",
    "embedding_dim = 100\n",
    "embedding_matrix = np.zeros((len(word_index) + 1, embedding_dim))\n",
    "\n",
    "for word, i in word_index.items():\n",
    "    if word in word_vectors:\n",
    "        embedding_matrix[i] = word_vectors[word]"
   ]
  },
  {
   "cell_type": "code",
   "execution_count": 8,
   "id": "e398a04b",
   "metadata": {},
   "outputs": [
    {
     "name": "stdout",
     "output_type": "stream",
     "text": [
      "(81611, 100)\n"
     ]
    }
   ],
   "source": [
    "print(embedding_matrix.shape)"
   ]
  },
  {
   "cell_type": "code",
   "execution_count": 9,
   "id": "459f785d",
   "metadata": {},
   "outputs": [],
   "source": [
    "\n",
    "from sklearn.model_selection import train_test_split\n",
    "from sklearn.metrics import accuracy_score, precision_score, recall_score, f1_score\n",
    "\n",
    "import tensorflow as tf\n",
    "from tensorflow.keras.preprocessing.sequence import pad_sequences\n",
    "from tensorflow.keras.preprocessing.text import Tokenizer\n",
    "from tensorflow.keras import layers, models, callbacks\n",
    "\n",
    "from tensorflow.keras.models import Model\n",
    "from keras.layers import Input, Embedding, SimpleRNN, Dense, Dropout\n",
    "\n",
    "from tensorflow.keras.optimizers import Adam # 학습률 조절\n",
    "from tensorflow.keras.callbacks import EarlyStopping\n",
    "\n",
    "from tensorflow.keras.callbacks import EarlyStopping # 검증 손실 개선되지 않으면 학습 자동 멈춤, 과적함 방지.\n",
    "from sklearn.metrics import mean_squared_error, mean_absolute_error, mean_absolute_percentage_error # 결과 평가\n",
    "from sklearn.metrics import accuracy_score, precision_score, recall_score, f1_score"
   ]
  },
  {
   "cell_type": "code",
   "execution_count": 10,
   "id": "41e423d8",
   "metadata": {},
   "outputs": [],
   "source": [
    "# === 6. RNN 모델 ===\n",
    "def build_rnn_model():\n",
    "    input_layer = layers.Input(shape=(max_len,))\n",
    "    embedding_layer = layers.Embedding(input_dim=len(word_index)+1,\n",
    "                                       output_dim=embedding_dim,\n",
    "                                       weights=[embedding_matrix],\n",
    "                                       input_length=max_len,\n",
    "                                       trainable=False)(input_layer)\n",
    "\n",
    "    x = SimpleRNN(128, return_sequences=False, name='Basic_RNN_1')(embedding_layer)\n",
    "    output = layers.Dense(1, activation='sigmoid')(x)\n",
    "\n",
    "    model = models.Model(inputs=input_layer, outputs=output)\n",
    "    model.summary()\n",
    "    model.compile(optimizer='adam', loss='binary_crossentropy', metrics=['accuracy'])\n",
    "    return model"
   ]
  },
  {
   "cell_type": "markdown",
   "id": "6dcf6a1d",
   "metadata": {},
   "source": [
    "### 모델 학습"
   ]
  },
  {
   "cell_type": "code",
   "execution_count": 11,
   "id": "e1fa03de",
   "metadata": {},
   "outputs": [],
   "source": [
    "def train_model(X, y):\n",
    "    X_train, X_val, y_train, y_val = train_test_split(\n",
    "        X, y, test_size=0.2, stratify=y, random_state=42)\n",
    "\n",
    "    model = build_rnn_model()\n",
    "    early_stop = callbacks.EarlyStopping(monitor='val_loss', patience=5, restore_best_weights=True)\n",
    "\n",
    "    model.fit(X_train, y_train,\n",
    "              validation_data=(X_val, y_val),\n",
    "              epochs=1,\n",
    "              batch_size=128,\n",
    "              callbacks=[early_stop])\n",
    "\n",
    "    y_pred_prob = model.predict(X_val)\n",
    "    y_pred = (y_pred_prob >= 0.5).astype(int)\n",
    "\n",
    "    print(f\"Accuracy : {accuracy_score(y_val, y_pred):.4f}\")\n",
    "    print(f\"Precision: {precision_score(y_val, y_pred):.4f}\")\n",
    "    print(f\"Recall   : {recall_score(y_val, y_pred):.4f}\")\n",
    "    print(f\"F1 Score : {f1_score(y_val, y_pred):.4f}\")\n",
    "\n",
    "    return model"
   ]
  },
  {
   "cell_type": "code",
   "execution_count": 12,
   "id": "9f4fac0c",
   "metadata": {},
   "outputs": [
    {
     "name": "stderr",
     "output_type": "stream",
     "text": [
      "/opt/anaconda3/envs/nlp_env/lib/python3.9/site-packages/keras/src/layers/core/embedding.py:97: UserWarning: Argument `input_length` is deprecated. Just remove it.\n",
      "  warnings.warn(\n"
     ]
    },
    {
     "data": {
      "text/html": [
       "<pre style=\"white-space:pre;overflow-x:auto;line-height:normal;font-family:Menlo,'DejaVu Sans Mono',consolas,'Courier New',monospace\"><span style=\"font-weight: bold\">Model: \"functional\"</span>\n",
       "</pre>\n"
      ],
      "text/plain": [
       "\u001b[1mModel: \"functional\"\u001b[0m\n"
      ]
     },
     "metadata": {},
     "output_type": "display_data"
    },
    {
     "data": {
      "text/html": [
       "<pre style=\"white-space:pre;overflow-x:auto;line-height:normal;font-family:Menlo,'DejaVu Sans Mono',consolas,'Courier New',monospace\">┏━━━━━━━━━━━━━━━━━━━━━━━━━━━━━━━━━┳━━━━━━━━━━━━━━━━━━━━━━━━┳━━━━━━━━━━━━━━━┓\n",
       "┃<span style=\"font-weight: bold\"> Layer (type)                    </span>┃<span style=\"font-weight: bold\"> Output Shape           </span>┃<span style=\"font-weight: bold\">       Param # </span>┃\n",
       "┡━━━━━━━━━━━━━━━━━━━━━━━━━━━━━━━━━╇━━━━━━━━━━━━━━━━━━━━━━━━╇━━━━━━━━━━━━━━━┩\n",
       "│ input_layer (<span style=\"color: #0087ff; text-decoration-color: #0087ff\">InputLayer</span>)        │ (<span style=\"color: #00d7ff; text-decoration-color: #00d7ff\">None</span>, <span style=\"color: #00af00; text-decoration-color: #00af00\">100</span>)            │             <span style=\"color: #00af00; text-decoration-color: #00af00\">0</span> │\n",
       "├─────────────────────────────────┼────────────────────────┼───────────────┤\n",
       "│ embedding (<span style=\"color: #0087ff; text-decoration-color: #0087ff\">Embedding</span>)           │ (<span style=\"color: #00d7ff; text-decoration-color: #00d7ff\">None</span>, <span style=\"color: #00af00; text-decoration-color: #00af00\">100</span>, <span style=\"color: #00af00; text-decoration-color: #00af00\">100</span>)       │     <span style=\"color: #00af00; text-decoration-color: #00af00\">8,161,100</span> │\n",
       "├─────────────────────────────────┼────────────────────────┼───────────────┤\n",
       "│ Basic_RNN_1 (<span style=\"color: #0087ff; text-decoration-color: #0087ff\">SimpleRNN</span>)         │ (<span style=\"color: #00d7ff; text-decoration-color: #00d7ff\">None</span>, <span style=\"color: #00af00; text-decoration-color: #00af00\">128</span>)            │        <span style=\"color: #00af00; text-decoration-color: #00af00\">29,312</span> │\n",
       "├─────────────────────────────────┼────────────────────────┼───────────────┤\n",
       "│ dense (<span style=\"color: #0087ff; text-decoration-color: #0087ff\">Dense</span>)                   │ (<span style=\"color: #00d7ff; text-decoration-color: #00d7ff\">None</span>, <span style=\"color: #00af00; text-decoration-color: #00af00\">1</span>)              │           <span style=\"color: #00af00; text-decoration-color: #00af00\">129</span> │\n",
       "└─────────────────────────────────┴────────────────────────┴───────────────┘\n",
       "</pre>\n"
      ],
      "text/plain": [
       "┏━━━━━━━━━━━━━━━━━━━━━━━━━━━━━━━━━┳━━━━━━━━━━━━━━━━━━━━━━━━┳━━━━━━━━━━━━━━━┓\n",
       "┃\u001b[1m \u001b[0m\u001b[1mLayer (type)                   \u001b[0m\u001b[1m \u001b[0m┃\u001b[1m \u001b[0m\u001b[1mOutput Shape          \u001b[0m\u001b[1m \u001b[0m┃\u001b[1m \u001b[0m\u001b[1m      Param #\u001b[0m\u001b[1m \u001b[0m┃\n",
       "┡━━━━━━━━━━━━━━━━━━━━━━━━━━━━━━━━━╇━━━━━━━━━━━━━━━━━━━━━━━━╇━━━━━━━━━━━━━━━┩\n",
       "│ input_layer (\u001b[38;5;33mInputLayer\u001b[0m)        │ (\u001b[38;5;45mNone\u001b[0m, \u001b[38;5;34m100\u001b[0m)            │             \u001b[38;5;34m0\u001b[0m │\n",
       "├─────────────────────────────────┼────────────────────────┼───────────────┤\n",
       "│ embedding (\u001b[38;5;33mEmbedding\u001b[0m)           │ (\u001b[38;5;45mNone\u001b[0m, \u001b[38;5;34m100\u001b[0m, \u001b[38;5;34m100\u001b[0m)       │     \u001b[38;5;34m8,161,100\u001b[0m │\n",
       "├─────────────────────────────────┼────────────────────────┼───────────────┤\n",
       "│ Basic_RNN_1 (\u001b[38;5;33mSimpleRNN\u001b[0m)         │ (\u001b[38;5;45mNone\u001b[0m, \u001b[38;5;34m128\u001b[0m)            │        \u001b[38;5;34m29,312\u001b[0m │\n",
       "├─────────────────────────────────┼────────────────────────┼───────────────┤\n",
       "│ dense (\u001b[38;5;33mDense\u001b[0m)                   │ (\u001b[38;5;45mNone\u001b[0m, \u001b[38;5;34m1\u001b[0m)              │           \u001b[38;5;34m129\u001b[0m │\n",
       "└─────────────────────────────────┴────────────────────────┴───────────────┘\n"
      ]
     },
     "metadata": {},
     "output_type": "display_data"
    },
    {
     "data": {
      "text/html": [
       "<pre style=\"white-space:pre;overflow-x:auto;line-height:normal;font-family:Menlo,'DejaVu Sans Mono',consolas,'Courier New',monospace\"><span style=\"font-weight: bold\"> Total params: </span><span style=\"color: #00af00; text-decoration-color: #00af00\">8,190,541</span> (31.24 MB)\n",
       "</pre>\n"
      ],
      "text/plain": [
       "\u001b[1m Total params: \u001b[0m\u001b[38;5;34m8,190,541\u001b[0m (31.24 MB)\n"
      ]
     },
     "metadata": {},
     "output_type": "display_data"
    },
    {
     "data": {
      "text/html": [
       "<pre style=\"white-space:pre;overflow-x:auto;line-height:normal;font-family:Menlo,'DejaVu Sans Mono',consolas,'Courier New',monospace\"><span style=\"font-weight: bold\"> Trainable params: </span><span style=\"color: #00af00; text-decoration-color: #00af00\">29,441</span> (115.00 KB)\n",
       "</pre>\n"
      ],
      "text/plain": [
       "\u001b[1m Trainable params: \u001b[0m\u001b[38;5;34m29,441\u001b[0m (115.00 KB)\n"
      ]
     },
     "metadata": {},
     "output_type": "display_data"
    },
    {
     "data": {
      "text/html": [
       "<pre style=\"white-space:pre;overflow-x:auto;line-height:normal;font-family:Menlo,'DejaVu Sans Mono',consolas,'Courier New',monospace\"><span style=\"font-weight: bold\"> Non-trainable params: </span><span style=\"color: #00af00; text-decoration-color: #00af00\">8,161,100</span> (31.13 MB)\n",
       "</pre>\n"
      ],
      "text/plain": [
       "\u001b[1m Non-trainable params: \u001b[0m\u001b[38;5;34m8,161,100\u001b[0m (31.13 MB)\n"
      ]
     },
     "metadata": {},
     "output_type": "display_data"
    },
    {
     "name": "stdout",
     "output_type": "stream",
     "text": [
      "\u001b[1m500/500\u001b[0m \u001b[32m━━━━━━━━━━━━━━━━━━━━\u001b[0m\u001b[37m\u001b[0m \u001b[1m14s\u001b[0m 27ms/step - accuracy: 0.6073 - loss: 0.6719 - val_accuracy: 0.6929 - val_loss: 0.5911\n",
      "\u001b[1m500/500\u001b[0m \u001b[32m━━━━━━━━━━━━━━━━━━━━\u001b[0m\u001b[37m\u001b[0m \u001b[1m2s\u001b[0m 4ms/step\n",
      "Accuracy : 0.6929\n",
      "Precision: 0.7348\n",
      "Recall   : 0.6036\n",
      "F1 Score : 0.6628\n"
     ]
    }
   ],
   "source": [
    "model = train_model(X_seq, y)"
   ]
  },
  {
   "cell_type": "code",
   "execution_count": 13,
   "id": "90d5f8ce",
   "metadata": {},
   "outputs": [],
   "source": [
    "# from tensorflow.keras.utils import plot_model\n",
    "# plot_model(model, show_shapes=True)"
   ]
  },
  {
   "cell_type": "code",
   "execution_count": null,
   "id": "ef26f988",
   "metadata": {},
   "outputs": [],
   "source": []
  }
 ],
 "metadata": {
  "kernelspec": {
   "display_name": "nlp_env",
   "language": "python",
   "name": "python3"
  },
  "language_info": {
   "codemirror_mode": {
    "name": "ipython",
    "version": 3
   },
   "file_extension": ".py",
   "mimetype": "text/x-python",
   "name": "python",
   "nbconvert_exporter": "python",
   "pygments_lexer": "ipython3",
   "version": "3.9.21"
  }
 },
 "nbformat": 4,
 "nbformat_minor": 5
}
