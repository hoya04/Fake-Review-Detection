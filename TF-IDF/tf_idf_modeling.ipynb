{
 "cells": [
  {
   "cell_type": "code",
   "execution_count": 1,
   "id": "b4fa2b00",
   "metadata": {},
   "outputs": [
    {
     "name": "stderr",
     "output_type": "stream",
     "text": [
      "c:\\Users\\joonh\\.conda\\envs\\vec\\lib\\site-packages\\tqdm\\auto.py:21: TqdmWarning: IProgress not found. Please update jupyter and ipywidgets. See https://ipywidgets.readthedocs.io/en/stable/user_install.html\n",
      "  from .autonotebook import tqdm as notebook_tqdm\n"
     ]
    }
   ],
   "source": [
    "import random\n",
    "import os\n",
    "import numpy as np\n",
    "import pandas as pd\n",
    "from tqdm.auto import tqdm\n",
    "tqdm.pandas()\n",
    "\n",
    "from collections import Counter\n",
    "\n",
    "from sklearn.model_selection import train_test_split\n",
    "from sklearn.metrics import (\n",
    "    accuracy_score, precision_score, recall_score, f1_score,\n",
    ")\n",
    "\n",
    "from sklearn.feature_extraction.text import TfidfVectorizer\n",
    "from sklearn.metrics import accuracy_score, precision_score, recall_score, f1_score\n",
    "from tensorflow.keras.callbacks import EarlyStopping # 검증 손실 개선되지 않으면 학습 자동 멈춤, 과적함 방지.\n",
    "from tensorflow.keras.optimizers import Adam\n",
    "from sklearn.metrics import mean_squared_error, mean_absolute_error, mean_absolute_percentage_error # 결과 평가\n",
    "from sklearn.linear_model import LogisticRegression"
   ]
  },
  {
   "cell_type": "code",
   "execution_count": 2,
   "id": "743c3b87",
   "metadata": {},
   "outputs": [],
   "source": [
    "def seed_everything(seed: int=42):\n",
    "  random.seed(seed)\n",
    "  np.random.seed(seed)\n",
    "  os.environ['PYTHONASHSEED'] = str(seed)\n",
    "my_seed = 42\n",
    "seed_everything(my_seed)"
   ]
  },
  {
   "cell_type": "code",
   "execution_count": 3,
   "id": "4f7b453c",
   "metadata": {},
   "outputs": [],
   "source": [
    "df_train = pd.read_pickle('df_train.pkl')\n",
    "df_test = pd.read_pickle('df_test.pkl')"
   ]
  },
  {
   "cell_type": "code",
   "execution_count": 4,
   "id": "e84fb276",
   "metadata": {},
   "outputs": [
    {
     "data": {
      "text/html": [
       "<div>\n",
       "<style scoped>\n",
       "    .dataframe tbody tr th:only-of-type {\n",
       "        vertical-align: middle;\n",
       "    }\n",
       "\n",
       "    .dataframe tbody tr th {\n",
       "        vertical-align: top;\n",
       "    }\n",
       "\n",
       "    .dataframe thead th {\n",
       "        text-align: right;\n",
       "    }\n",
       "</style>\n",
       "<table border=\"1\" class=\"dataframe\">\n",
       "  <thead>\n",
       "    <tr style=\"text-align: right;\">\n",
       "      <th></th>\n",
       "      <th>review_text</th>\n",
       "      <th>fake</th>\n",
       "      <th>clean_text</th>\n",
       "      <th>bert_emb</th>\n",
       "      <th>roberta_emb</th>\n",
       "    </tr>\n",
       "  </thead>\n",
       "  <tbody>\n",
       "    <tr>\n",
       "      <th>48773</th>\n",
       "      <td>Best noodles we've ever had! Was told they had...</td>\n",
       "      <td>0</td>\n",
       "      <td>best noodle ever tell best noodle vegas defian...</td>\n",
       "      <td>[-0.3053801655769348, -0.14964118599891663, -0...</td>\n",
       "      <td>[-0.06568992882966995, 0.0539405457675457, -0....</td>\n",
       "    </tr>\n",
       "    <tr>\n",
       "      <th>52419</th>\n",
       "      <td>We had some amazing nachos and other food for ...</td>\n",
       "      <td>0</td>\n",
       "      <td>amaze nacho food lunch filet mignon nachos wor...</td>\n",
       "      <td>[-0.1540858894586563, -0.14516526460647583, 0....</td>\n",
       "      <td>[-0.023452945053577423, 0.0322229228913784, -0...</td>\n",
       "    </tr>\n",
       "    <tr>\n",
       "      <th>29881</th>\n",
       "      <td>Very cute place. Food was good. Got the churro...</td>\n",
       "      <td>1</td>\n",
       "      <td>cute place food good get churro dog two hot bo...</td>\n",
       "      <td>[-0.07121089845895767, -0.03658287599682808, 0...</td>\n",
       "      <td>[-0.03706225007772446, 0.07646695524454117, -0...</td>\n",
       "    </tr>\n",
       "    <tr>\n",
       "      <th>21786</th>\n",
       "      <td>Always have fresh food and is delicious. Very ...</td>\n",
       "      <td>1</td>\n",
       "      <td>always fresh food delicious good customer serv...</td>\n",
       "      <td>[-0.18598921597003937, -0.02015671506524086, 0...</td>\n",
       "      <td>[-0.05256029963493347, 0.0839853510260582, -0....</td>\n",
       "    </tr>\n",
       "    <tr>\n",
       "      <th>28594</th>\n",
       "      <td>Thanks for letting me about the free s'more sp...</td>\n",
       "      <td>1</td>\n",
       "      <td>thanks let free special appreciate jessica ser...</td>\n",
       "      <td>[0.09011292457580566, 0.16610845923423767, 0.0...</td>\n",
       "      <td>[-0.04973651468753815, 0.07160010188817978, -0...</td>\n",
       "    </tr>\n",
       "  </tbody>\n",
       "</table>\n",
       "</div>"
      ],
      "text/plain": [
       "                                             review_text  fake  \\\n",
       "48773  Best noodles we've ever had! Was told they had...     0   \n",
       "52419  We had some amazing nachos and other food for ...     0   \n",
       "29881  Very cute place. Food was good. Got the churro...     1   \n",
       "21786  Always have fresh food and is delicious. Very ...     1   \n",
       "28594  Thanks for letting me about the free s'more sp...     1   \n",
       "\n",
       "                                              clean_text  \\\n",
       "48773  best noodle ever tell best noodle vegas defian...   \n",
       "52419  amaze nacho food lunch filet mignon nachos wor...   \n",
       "29881  cute place food good get churro dog two hot bo...   \n",
       "21786  always fresh food delicious good customer serv...   \n",
       "28594  thanks let free special appreciate jessica ser...   \n",
       "\n",
       "                                                bert_emb  \\\n",
       "48773  [-0.3053801655769348, -0.14964118599891663, -0...   \n",
       "52419  [-0.1540858894586563, -0.14516526460647583, 0....   \n",
       "29881  [-0.07121089845895767, -0.03658287599682808, 0...   \n",
       "21786  [-0.18598921597003937, -0.02015671506524086, 0...   \n",
       "28594  [0.09011292457580566, 0.16610845923423767, 0.0...   \n",
       "\n",
       "                                             roberta_emb  \n",
       "48773  [-0.06568992882966995, 0.0539405457675457, -0....  \n",
       "52419  [-0.023452945053577423, 0.0322229228913784, -0...  \n",
       "29881  [-0.03706225007772446, 0.07646695524454117, -0...  \n",
       "21786  [-0.05256029963493347, 0.0839853510260582, -0....  \n",
       "28594  [-0.04973651468753815, 0.07160010188817978, -0...  "
      ]
     },
     "execution_count": 4,
     "metadata": {},
     "output_type": "execute_result"
    }
   ],
   "source": [
    "df_train.head()"
   ]
  },
  {
   "cell_type": "code",
   "execution_count": 5,
   "id": "d4b54469",
   "metadata": {},
   "outputs": [],
   "source": [
    "vectorizer = TfidfVectorizer(max_features=768)"
   ]
  },
  {
   "cell_type": "code",
   "execution_count": 6,
   "id": "de538788",
   "metadata": {},
   "outputs": [],
   "source": [
    "# 훈련 데이터 리뷰 텍스트와 라벨 추출\n",
    "x_train = df_train['clean_text']\n",
    "y_train = np.array(df_train['fake'])\n",
    "\n",
    "# 테스트 데이터 리뷰 텍스트와 라벨 추출\n",
    "x_test = df_test['clean_text']\n",
    "y_test = np.array(df_test['fake'])"
   ]
  },
  {
   "cell_type": "code",
   "execution_count": null,
   "id": "96fd15c5",
   "metadata": {},
   "outputs": [],
   "source": [
    "x_train = vectorizer.fit_transform(x_train)\n",
    "x_test = vectorizer.fit_transform(x_test)"
   ]
  },
  {
   "cell_type": "code",
   "execution_count": 8,
   "id": "f1c19c49",
   "metadata": {},
   "outputs": [
    {
     "name": "stdout",
     "output_type": "stream",
     "text": [
      "39484\n"
     ]
    }
   ],
   "source": [
    "tokenized_texts = [sentence.split() for sentence in df_train['clean_text']]\n",
    "\n",
    "word_counts = Counter()\n",
    "for sentence in tokenized_texts:\n",
    "    word_counts.update(sentence)\n",
    "\n",
    "print(len(word_counts))"
   ]
  },
  {
   "cell_type": "code",
   "execution_count": 9,
   "id": "501d4316",
   "metadata": {},
   "outputs": [],
   "source": [
    "model_lr = LogisticRegression(max_iter=1000,random_state=42)"
   ]
  },
  {
   "cell_type": "code",
   "execution_count": 10,
   "id": "3a213427",
   "metadata": {},
   "outputs": [
    {
     "data": {
      "text/html": [
       "<style>#sk-container-id-1 {color: black;}#sk-container-id-1 pre{padding: 0;}#sk-container-id-1 div.sk-toggleable {background-color: white;}#sk-container-id-1 label.sk-toggleable__label {cursor: pointer;display: block;width: 100%;margin-bottom: 0;padding: 0.3em;box-sizing: border-box;text-align: center;}#sk-container-id-1 label.sk-toggleable__label-arrow:before {content: \"▸\";float: left;margin-right: 0.25em;color: #696969;}#sk-container-id-1 label.sk-toggleable__label-arrow:hover:before {color: black;}#sk-container-id-1 div.sk-estimator:hover label.sk-toggleable__label-arrow:before {color: black;}#sk-container-id-1 div.sk-toggleable__content {max-height: 0;max-width: 0;overflow: hidden;text-align: left;background-color: #f0f8ff;}#sk-container-id-1 div.sk-toggleable__content pre {margin: 0.2em;color: black;border-radius: 0.25em;background-color: #f0f8ff;}#sk-container-id-1 input.sk-toggleable__control:checked~div.sk-toggleable__content {max-height: 200px;max-width: 100%;overflow: auto;}#sk-container-id-1 input.sk-toggleable__control:checked~label.sk-toggleable__label-arrow:before {content: \"▾\";}#sk-container-id-1 div.sk-estimator input.sk-toggleable__control:checked~label.sk-toggleable__label {background-color: #d4ebff;}#sk-container-id-1 div.sk-label input.sk-toggleable__control:checked~label.sk-toggleable__label {background-color: #d4ebff;}#sk-container-id-1 input.sk-hidden--visually {border: 0;clip: rect(1px 1px 1px 1px);clip: rect(1px, 1px, 1px, 1px);height: 1px;margin: -1px;overflow: hidden;padding: 0;position: absolute;width: 1px;}#sk-container-id-1 div.sk-estimator {font-family: monospace;background-color: #f0f8ff;border: 1px dotted black;border-radius: 0.25em;box-sizing: border-box;margin-bottom: 0.5em;}#sk-container-id-1 div.sk-estimator:hover {background-color: #d4ebff;}#sk-container-id-1 div.sk-parallel-item::after {content: \"\";width: 100%;border-bottom: 1px solid gray;flex-grow: 1;}#sk-container-id-1 div.sk-label:hover label.sk-toggleable__label {background-color: #d4ebff;}#sk-container-id-1 div.sk-serial::before {content: \"\";position: absolute;border-left: 1px solid gray;box-sizing: border-box;top: 0;bottom: 0;left: 50%;z-index: 0;}#sk-container-id-1 div.sk-serial {display: flex;flex-direction: column;align-items: center;background-color: white;padding-right: 0.2em;padding-left: 0.2em;position: relative;}#sk-container-id-1 div.sk-item {position: relative;z-index: 1;}#sk-container-id-1 div.sk-parallel {display: flex;align-items: stretch;justify-content: center;background-color: white;position: relative;}#sk-container-id-1 div.sk-item::before, #sk-container-id-1 div.sk-parallel-item::before {content: \"\";position: absolute;border-left: 1px solid gray;box-sizing: border-box;top: 0;bottom: 0;left: 50%;z-index: -1;}#sk-container-id-1 div.sk-parallel-item {display: flex;flex-direction: column;z-index: 1;position: relative;background-color: white;}#sk-container-id-1 div.sk-parallel-item:first-child::after {align-self: flex-end;width: 50%;}#sk-container-id-1 div.sk-parallel-item:last-child::after {align-self: flex-start;width: 50%;}#sk-container-id-1 div.sk-parallel-item:only-child::after {width: 0;}#sk-container-id-1 div.sk-dashed-wrapped {border: 1px dashed gray;margin: 0 0.4em 0.5em 0.4em;box-sizing: border-box;padding-bottom: 0.4em;background-color: white;}#sk-container-id-1 div.sk-label label {font-family: monospace;font-weight: bold;display: inline-block;line-height: 1.2em;}#sk-container-id-1 div.sk-label-container {text-align: center;}#sk-container-id-1 div.sk-container {/* jupyter's `normalize.less` sets `[hidden] { display: none; }` but bootstrap.min.css set `[hidden] { display: none !important; }` so we also need the `!important` here to be able to override the default hidden behavior on the sphinx rendered scikit-learn.org. See: https://github.com/scikit-learn/scikit-learn/issues/21755 */display: inline-block !important;position: relative;}#sk-container-id-1 div.sk-text-repr-fallback {display: none;}</style><div id=\"sk-container-id-1\" class=\"sk-top-container\"><div class=\"sk-text-repr-fallback\"><pre>LogisticRegression(max_iter=1000, random_state=42)</pre><b>In a Jupyter environment, please rerun this cell to show the HTML representation or trust the notebook. <br />On GitHub, the HTML representation is unable to render, please try loading this page with nbviewer.org.</b></div><div class=\"sk-container\" hidden><div class=\"sk-item\"><div class=\"sk-estimator sk-toggleable\"><input class=\"sk-toggleable__control sk-hidden--visually\" id=\"sk-estimator-id-1\" type=\"checkbox\" checked><label for=\"sk-estimator-id-1\" class=\"sk-toggleable__label sk-toggleable__label-arrow\">LogisticRegression</label><div class=\"sk-toggleable__content\"><pre>LogisticRegression(max_iter=1000, random_state=42)</pre></div></div></div></div></div>"
      ],
      "text/plain": [
       "LogisticRegression(max_iter=1000, random_state=42)"
      ]
     },
     "execution_count": 10,
     "metadata": {},
     "output_type": "execute_result"
    }
   ],
   "source": [
    "model_lr.fit(x_train, y_train)"
   ]
  },
  {
   "cell_type": "code",
   "execution_count": 11,
   "id": "611e6ba1",
   "metadata": {},
   "outputs": [
    {
     "name": "stdout",
     "output_type": "stream",
     "text": [
      "Accuracy: 0.6778\n",
      "Precision: 0.7132\n",
      "Recall: 0.5947\n",
      "F1 Score: 0.6486\n"
     ]
    }
   ],
   "source": [
    "# 테스트 데이터 예측 및 이진 분류 임계값 적용\n",
    "y_pred_binary = (model_lr.predict(x_test) >= 0.5).astype(int)\n",
    "\n",
    "# 모델 성능 평가 지표 계산 및 출력\n",
    "metrics = {\n",
    "    \"Accuracy\": accuracy_score(y_test, y_pred_binary),\n",
    "    \"Precision\": precision_score(y_test, y_pred_binary),\n",
    "    \"Recall\": recall_score(y_test, y_pred_binary),\n",
    "    \"F1 Score\": f1_score(y_test, y_pred_binary),\n",
    "}\n",
    "\n",
    "# 성능 지표 출력\n",
    "for metric, value in metrics.items():\n",
    "    print(f\"{metric}: {value:.4f}\")\n"
   ]
  }
 ],
 "metadata": {
  "kernelspec": {
   "display_name": "vec",
   "language": "python",
   "name": "python3"
  },
  "language_info": {
   "codemirror_mode": {
    "name": "ipython",
    "version": 3
   },
   "file_extension": ".py",
   "mimetype": "text/x-python",
   "name": "python",
   "nbconvert_exporter": "python",
   "pygments_lexer": "ipython3",
   "version": "3.8.20"
  }
 },
 "nbformat": 4,
 "nbformat_minor": 5
}
